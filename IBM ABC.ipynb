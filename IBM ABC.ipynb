{
    "cells": [
        {
            "cell_type": "code",
            "execution_count": null,
            "id": "digital-stephen",
            "metadata": {},
            "outputs": [],
            "source": "import pandas as pd\nimport numpy as np"
        },
        {
            "cell_type": "code",
            "execution_count": 5,
            "id": "hearing-headquarters",
            "metadata": {},
            "outputs": [
                {
                    "data": {
                        "text/plain": "Index(['ARN', 'Payment Method', 'Dispute Due Date', 'Chargeback Category',\n       'Chargeback Reason Code', 'Reason Description', 'Chargeback Type',\n       'Transaction ID', 'Transaction Date', 'Chargeback Status',\n       'Client Name', 'Card Number', 'PAN', 'Card Type', 'Bank Reference',\n       'Client Unique ID', 'Chargeback Date', 'Update Date', 'Multi Client',\n       'Site Name', 'Affiliate', 'Transaction Type', 'Status', 'Acquirer Bank',\n       'Custom Data', 'External Token Provider', 'Currency',\n       'Transaction Amount', 'Chargeback Amount', 'Is 3D',\n       'Was Previously Credited', 'Recurring Type', 'Is SCA Mandated',\n       'PSD2 Scope', '3D Version', 'Authentication Flow', 'Is Liability Shift',\n       'External Fraud Score %', 'Is External MPI', 'Lifecycle ID',\n       'Acquirer Decision', 'Acquirer Decision Reason', 'Sub Method',\n       'Name on Card', 'BIN', 'Issuer Bank', 'Issuing Country',\n       'Email Address', 'User ID', 'Billing Country', 'IP Country'],\n      dtype='object')"
                    },
                    "execution_count": 5,
                    "metadata": {},
                    "output_type": "execute_result"
                }
            ],
            "source": "cbs = pd.read_excel('141308__chargeback_20211012013323000000_efebbade4212e8b1.xlsx', skiprows=11)\ncbs.columns"
        },
        {
            "cell_type": "code",
            "execution_count": 8,
            "id": "imported-piece",
            "metadata": {},
            "outputs": [],
            "source": "cbs = cbs.iloc[:-2]"
        },
        {
            "cell_type": "code",
            "execution_count": 6,
            "id": "focal-silence",
            "metadata": {},
            "outputs": [
                {
                    "data": {
                        "text/plain": "0          \u4f4e\n1          \u4f4e\n2          \u4f4e\n3          \u4f4e\n4          \u4f4e\n        ... \n13099      \u4f4e\n13100      \u4f4e\n13101      \u4f4e\n13102    NaN\n13103    NaN\nName: \u62d2\u4ed8\u4ef7\u683c\u5206\u7c7b, Length: 13104, dtype: category\nCategories (3, object): ['\u4f4e' < '\u4e2d' < '\u9ad8']"
                    },
                    "execution_count": 6,
                    "metadata": {},
                    "output_type": "execute_result"
                }
            ],
            "source": "bins = np.linspace(min(cbs['Chargeback Amount']), max(cbs['Chargeback Amount']), 4)\ngroup_names = ['\u4f4e','\u4e2d','\u9ad8']\ncbs['\u62d2\u4ed8\u4ef7\u683c\u5206\u7c7b'] = pd.cut(cbs['Chargeback Amount'], bins, labels=group_names, include_lowest=True)\ncbs['\u62d2\u4ed8\u4ef7\u683c\u5206\u7c7b']\n#next: using histogram to display the distribution of the CHB amount"
        },
        {
            "cell_type": "code",
            "execution_count": 12,
            "id": "boxed-present",
            "metadata": {},
            "outputs": [
                {
                    "data": {
                        "text/plain": "ARN                                          74424651276113054227393\nPayment Method                                                  Visa\nDispute Due Date                                 2021-10-25 00:00:00\nChargeback Category                                Customer Disputes\nChargeback Reason Code                                          13.7\nReason Description                    Cancelled Merchandise/Services\nChargeback Type                                           Chargeback\nTransaction ID                                 1130000002305422848.0\nTransaction Date                                 2021-10-03 11:54:33\nChargeback Status                                            Regular\nClient Name                                         Ronghan-MCC 5399\nCard Number                                         4***********7504\nPAN                                                 4***********7504\nCard Type                                                      Debit\nBank Reference                                                   0.0\nClient Unique ID                              6003432110316543223835\nChargeback Date                                  2021-10-11 00:00:00\nUpdate Date                                      2021-10-11 19:21:36\nMulti Client                Ronghan International Limited (PF) Multi\nSite Name                                           Ronghan-MCC 5399\nAffiliate                                                        NaN\nTransaction Type                                                Sale\nStatus                                                       Regular\nAcquirer Bank                                    Safecharge Acquirer\nCustom Data                                                      NaN\nExternal Token Provider                                          0.0\nCurrency                                                         USD\nTransaction Amount                                             55.64\nChargeback Amount                                              55.64\nIs 3D                                                             No\nWas Previously Credited                                           No\nRecurring Type                                               Initial\nIs SCA Mandated                                                   No\nPSD2 Scope                                                        No\n3D Version                                                    Non-3D\nAuthentication Flow                                              NaN\nIs Liability Shift                              Liability shift - NO\nExternal Fraud Score %                                           NaN\nIs External MPI                                                   No\nLifecycle ID                                   1130000002305422848.0\nAcquirer Decision                                                NaN\nAcquirer Decision Reason                                         NaN\nSub Method                                                       NaN\nName on Card                                 Genesis johana Martinez\nBIN                                                         420767.0\nIssuer Bank                         JPMorgan Chase Bank N.A. - Debit\nIssuing Country                                        United states\nEmail Address                                genesislavish@gmail.com\nUser ID                                                          NaN\nBilling Country                                        United states\nIP Country                                             United states\n\u62d2\u4ed8\u4ef7\u683c\u5206\u7c7b                                                             \u4f4e\nName: 0, dtype: object"
                    },
                    "execution_count": 12,
                    "metadata": {},
                    "output_type": "execute_result"
                }
            ],
            "source": "cbs.iloc[0]"
        },
        {
            "cell_type": "markdown",
            "id": "forty-poster",
            "metadata": {},
            "source": "\u601d\u8003\uff1a\n1\uff09cbs['Payment Method']\u7684\u503c is either Visa or MasterCard?\n\u5982\u679c\u9664\u4e86Visa/MasterCard\uff0c\u8fd8\u6709\u5176\u4ed6\u503c\uff0c\u4f1a\u51fa\u9519\n\u7ed3\u8bba\uff1a['Visa', 'MasterCard', 'Maestro']\u3002 \u4e0d\u4f1a\u51fa\u9519\u3002\u9ed8\u8ba4\u628a\u5176\u4ed6\u975eVisa\u8bbe\u7f6e\u62100\n2) pd.get_dummies(cbs['Payment Method'])\u9ed8\u8ba4\u628a\u7b2c\u4e00\u884c\u7684\u503c\u53d8\u62101\uff1f\n\u6539\u4e00\u4e0b\u7b2c\u4e00\u884c\u7684\u503c\n\u7ed3\u8bba\uff1a\u731c\u6d4b\u6b63\u786e\uff0c\u9ed8\u8ba4\u628a\u7b2c\u4e00\u884c\u7684\u503c\u53d8\u62101\uff0c\u5176\u4ed6\u4e0e\u7b2c\u4e00\u884c\u7684\u503c\u4e0d\u4e00\u6837\u7684\u503c\uff0c\u5168\u90e8\u4e3a0"
        },
        {
            "cell_type": "code",
            "execution_count": 14,
            "id": "incorrect-cleanup",
            "metadata": {},
            "outputs": [
                {
                    "data": {
                        "text/html": "<div>\n<style scoped>\n    .dataframe tbody tr th:only-of-type {\n        vertical-align: middle;\n    }\n\n    .dataframe tbody tr th {\n        vertical-align: top;\n    }\n\n    .dataframe thead th {\n        text-align: right;\n    }\n</style>\n<table border=\"1\" class=\"dataframe\">\n  <thead>\n    <tr style=\"text-align: right;\">\n      <th></th>\n      <th>Maestro</th>\n      <th>MasterCard</th>\n      <th>Visa</th>\n    </tr>\n  </thead>\n  <tbody>\n    <tr>\n      <th>0</th>\n      <td>0</td>\n      <td>0</td>\n      <td>1</td>\n    </tr>\n    <tr>\n      <th>1</th>\n      <td>0</td>\n      <td>0</td>\n      <td>1</td>\n    </tr>\n    <tr>\n      <th>2</th>\n      <td>0</td>\n      <td>0</td>\n      <td>1</td>\n    </tr>\n    <tr>\n      <th>3</th>\n      <td>0</td>\n      <td>0</td>\n      <td>1</td>\n    </tr>\n    <tr>\n      <th>4</th>\n      <td>0</td>\n      <td>0</td>\n      <td>1</td>\n    </tr>\n    <tr>\n      <th>...</th>\n      <td>...</td>\n      <td>...</td>\n      <td>...</td>\n    </tr>\n    <tr>\n      <th>13097</th>\n      <td>0</td>\n      <td>1</td>\n      <td>0</td>\n    </tr>\n    <tr>\n      <th>13098</th>\n      <td>0</td>\n      <td>1</td>\n      <td>0</td>\n    </tr>\n    <tr>\n      <th>13099</th>\n      <td>0</td>\n      <td>1</td>\n      <td>0</td>\n    </tr>\n    <tr>\n      <th>13100</th>\n      <td>0</td>\n      <td>1</td>\n      <td>0</td>\n    </tr>\n    <tr>\n      <th>13101</th>\n      <td>0</td>\n      <td>1</td>\n      <td>0</td>\n    </tr>\n  </tbody>\n</table>\n<p>13102 rows \u00d7 3 columns</p>\n</div>",
                        "text/plain": "       Maestro  MasterCard  Visa\n0            0           0     1\n1            0           0     1\n2            0           0     1\n3            0           0     1\n4            0           0     1\n...        ...         ...   ...\n13097        0           1     0\n13098        0           1     0\n13099        0           1     0\n13100        0           1     0\n13101        0           1     0\n\n[13102 rows x 3 columns]"
                    },
                    "execution_count": 14,
                    "metadata": {},
                    "output_type": "execute_result"
                }
            ],
            "source": "#\u601d\u8003\uff1acbs['Payment Method']\npd.get_dummies(cbs['Payment Method'])"
        },
        {
            "cell_type": "code",
            "execution_count": 17,
            "id": "hungry-theta",
            "metadata": {},
            "outputs": [
                {
                    "data": {
                        "text/html": "<div>\n<style scoped>\n    .dataframe tbody tr th:only-of-type {\n        vertical-align: middle;\n    }\n\n    .dataframe tbody tr th {\n        vertical-align: top;\n    }\n\n    .dataframe thead th {\n        text-align: right;\n    }\n</style>\n<table border=\"1\" class=\"dataframe\">\n  <thead>\n    <tr style=\"text-align: right;\">\n      <th></th>\n      <th>Maestro</th>\n      <th>MasterCard</th>\n      <th>Visa</th>\n    </tr>\n  </thead>\n  <tbody>\n    <tr>\n      <th>0</th>\n      <td>0</td>\n      <td>1</td>\n      <td>0</td>\n    </tr>\n    <tr>\n      <th>1</th>\n      <td>0</td>\n      <td>0</td>\n      <td>1</td>\n    </tr>\n    <tr>\n      <th>2</th>\n      <td>0</td>\n      <td>0</td>\n      <td>1</td>\n    </tr>\n    <tr>\n      <th>3</th>\n      <td>0</td>\n      <td>0</td>\n      <td>1</td>\n    </tr>\n    <tr>\n      <th>4</th>\n      <td>0</td>\n      <td>0</td>\n      <td>1</td>\n    </tr>\n    <tr>\n      <th>...</th>\n      <td>...</td>\n      <td>...</td>\n      <td>...</td>\n    </tr>\n    <tr>\n      <th>13097</th>\n      <td>0</td>\n      <td>1</td>\n      <td>0</td>\n    </tr>\n    <tr>\n      <th>13098</th>\n      <td>0</td>\n      <td>1</td>\n      <td>0</td>\n    </tr>\n    <tr>\n      <th>13099</th>\n      <td>0</td>\n      <td>1</td>\n      <td>0</td>\n    </tr>\n    <tr>\n      <th>13100</th>\n      <td>0</td>\n      <td>1</td>\n      <td>0</td>\n    </tr>\n    <tr>\n      <th>13101</th>\n      <td>0</td>\n      <td>1</td>\n      <td>0</td>\n    </tr>\n  </tbody>\n</table>\n<p>13102 rows \u00d7 3 columns</p>\n</div>",
                        "text/plain": "       Maestro  MasterCard  Visa\n0            0           1     0\n1            0           0     1\n2            0           0     1\n3            0           0     1\n4            0           0     1\n...        ...         ...   ...\n13097        0           1     0\n13098        0           1     0\n13099        0           1     0\n13100        0           1     0\n13101        0           1     0\n\n[13102 rows x 3 columns]"
                    },
                    "execution_count": 17,
                    "metadata": {},
                    "output_type": "execute_result"
                }
            ],
            "source": "cbs.iloc[0] = cbs.iloc[13101]\npd.get_dummies(cbs['Payment Method'])"
        },
        {
            "cell_type": "code",
            "execution_count": null,
            "id": "inside-evidence",
            "metadata": {},
            "outputs": [],
            "source": "x = np.array([[1., 2., 3.], [4., 5., 6.]])\ny = np.array([[6., 23.], [-1, 7], [8, 9]])\nz = np.array([[[6., 23.], [-1, 7], [8, 9]]])\nx"
        },
        {
            "cell_type": "markdown",
            "id": "characteristic-surgery",
            "metadata": {},
            "source": "Page 106\nEvery array has a shape, a tuple indicating \nthe size of each dimension, and a dtype, an object describing the data type of the array"
        },
        {
            "cell_type": "code",
            "execution_count": null,
            "id": "royal-cache",
            "metadata": {},
            "outputs": [],
            "source": "y"
        },
        {
            "cell_type": "code",
            "execution_count": null,
            "id": "local-lender",
            "metadata": {},
            "outputs": [],
            "source": "x.shape"
        },
        {
            "cell_type": "code",
            "execution_count": null,
            "id": "eleven-metropolitan",
            "metadata": {},
            "outputs": [],
            "source": "y.shape"
        },
        {
            "cell_type": "code",
            "execution_count": null,
            "id": "impossible-moral",
            "metadata": {},
            "outputs": [],
            "source": "x.ndim"
        },
        {
            "cell_type": "code",
            "execution_count": null,
            "id": "caroline-burner",
            "metadata": {},
            "outputs": [],
            "source": "y.ndim"
        },
        {
            "cell_type": "code",
            "execution_count": null,
            "id": "paperback-musical",
            "metadata": {},
            "outputs": [],
            "source": "z.ndim"
        },
        {
            "cell_type": "code",
            "execution_count": null,
            "id": "bored-industry",
            "metadata": {},
            "outputs": [],
            "source": "z.shape"
        },
        {
            "cell_type": "code",
            "execution_count": null,
            "id": "remarkable-worse",
            "metadata": {},
            "outputs": [],
            "source": "z.dtype"
        },
        {
            "cell_type": "code",
            "execution_count": null,
            "id": "incorrect-central",
            "metadata": {},
            "outputs": [],
            "source": "data = {'state': ['Ohio', 'Ohio', 'Ohio', 'Nevada', 'Nevada', 'Nevada'],\n 'year': [2000, 2001, 2002, 2001, 2002, 2003],\n 'pop': [1.5, 1.7, 3.6, 2.4, 2.9, 3.2]}\ndata = pd.DataFrame(data)"
        },
        {
            "cell_type": "code",
            "execution_count": null,
            "id": "danish-terrace",
            "metadata": {},
            "outputs": [],
            "source": "data"
        },
        {
            "cell_type": "code",
            "execution_count": null,
            "id": "simplified-bennett",
            "metadata": {},
            "outputs": [],
            "source": "data.drop('pop', axis = 1, inplace=True)\ndata"
        },
        {
            "cell_type": "code",
            "execution_count": null,
            "id": "together-timothy",
            "metadata": {},
            "outputs": [],
            "source": "#fruits = {'Apple':[30], 'Orange':[9]}\nfruits = {'Apple':30, 'Orange':9}\nfruits = pd.DataFrame(fruits)\nfruits"
        },
        {
            "cell_type": "code",
            "execution_count": null,
            "id": "obvious-cyprus",
            "metadata": {},
            "outputs": [],
            "source": "data = pd.DataFrame({'k1': ['one', 'two'] * 3 + ['two'],\n                     'k2': [1, 1, 2, 3, 3, 4, 4]})\ndata"
        },
        {
            "cell_type": "code",
            "execution_count": null,
            "id": "phantom-surge",
            "metadata": {},
            "outputs": [],
            "source": "data.duplicated()"
        },
        {
            "cell_type": "code",
            "execution_count": null,
            "id": "taken-meditation",
            "metadata": {},
            "outputs": [],
            "source": "data['v1'] = range(7)\ndata"
        },
        {
            "cell_type": "code",
            "execution_count": null,
            "id": "direct-geneva",
            "metadata": {},
            "outputs": [],
            "source": "data.drop_duplicates('k2')"
        },
        {
            "cell_type": "code",
            "execution_count": null,
            "id": "fuzzy-municipality",
            "metadata": {},
            "outputs": [],
            "source": "data"
        },
        {
            "cell_type": "code",
            "execution_count": null,
            "id": "swedish-composition",
            "metadata": {},
            "outputs": [],
            "source": "data = pd.DataFrame({'food': ['bacon', 'pulled pork', 'bacon',\n'Pastrami', 'corned beef', 'Bacon',\n'pastrami', 'honey ham', 'nova lox'],\n'ounces': [4, 3, 12, 6, 7.5, 8, 3, 5, 6]})\ndata"
        },
        {
            "cell_type": "code",
            "execution_count": null,
            "id": "dried-terminal",
            "metadata": {},
            "outputs": [],
            "source": "meat_to_animal = {\n 'bacon': 'pig',\n 'pulled pork': 'pig',\n 'pastrami': 'cow',\n 'corned beef': 'cow',\n 'honey ham': 'pig',\n 'nova lox': 'salmon'\n}"
        },
        {
            "cell_type": "code",
            "execution_count": null,
            "id": "subtle-zambia",
            "metadata": {},
            "outputs": [],
            "source": "lower_cased = data['food'].str.lower()\ndata['animal'] = lower_cased.map(meat_to_animal)\ndata"
        },
        {
            "cell_type": "code",
            "execution_count": null,
            "id": "satellite-collins",
            "metadata": {},
            "outputs": [],
            "source": "data['food'].map(lambda x: meat_to_animal[x.lower()])"
        },
        {
            "cell_type": "code",
            "execution_count": null,
            "id": "coupled-xerox",
            "metadata": {},
            "outputs": [],
            "source": "data = np.random.randn(2, 3)"
        },
        {
            "cell_type": "code",
            "execution_count": null,
            "id": "amazing-fleece",
            "metadata": {},
            "outputs": [],
            "source": "data"
        },
        {
            "cell_type": "code",
            "execution_count": null,
            "id": "vertical-utility",
            "metadata": {},
            "outputs": [],
            "source": "data * 10"
        },
        {
            "cell_type": "code",
            "execution_count": null,
            "id": "substantial-macro",
            "metadata": {},
            "outputs": [],
            "source": "data + data"
        },
        {
            "cell_type": "code",
            "execution_count": null,
            "id": "miniature-merchandise",
            "metadata": {},
            "outputs": [],
            "source": "data.shape"
        },
        {
            "cell_type": "code",
            "execution_count": null,
            "id": "going-table",
            "metadata": {},
            "outputs": [],
            "source": "data.dtype"
        },
        {
            "cell_type": "code",
            "execution_count": null,
            "id": "healthy-checklist",
            "metadata": {},
            "outputs": [],
            "source": "data1 = [6, 7.5, 8, 0, 1]\narr = np.array(data1)\narr"
        },
        {
            "cell_type": "code",
            "execution_count": null,
            "id": "minus-coaching",
            "metadata": {},
            "outputs": [],
            "source": "np.empty((2, 3, 2))"
        },
        {
            "cell_type": "code",
            "execution_count": null,
            "id": "acceptable-granny",
            "metadata": {},
            "outputs": [],
            "source": "np.zeros((2,3))"
        },
        {
            "cell_type": "code",
            "execution_count": null,
            "id": "orange-ordinance",
            "metadata": {},
            "outputs": [],
            "source": "np.arange(15)\n"
        },
        {
            "cell_type": "code",
            "execution_count": null,
            "id": "complicated-nebraska",
            "metadata": {},
            "outputs": [],
            "source": ""
        }
    ],
    "metadata": {
        "kernelspec": {
            "display_name": "Python 3.8",
            "language": "python",
            "name": "python3"
        },
        "language_info": {
            "codemirror_mode": {
                "name": "ipython",
                "version": 3
            },
            "file_extension": ".py",
            "mimetype": "text/x-python",
            "name": "python",
            "nbconvert_exporter": "python",
            "pygments_lexer": "ipython3",
            "version": "3.8.11"
        }
    },
    "nbformat": 4,
    "nbformat_minor": 5
}